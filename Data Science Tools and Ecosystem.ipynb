{
 "cells": [
  {
   "cell_type": "markdown",
   "id": "1ce8f7ab",
   "metadata": {},
   "source": [
    "# Data Science Tools and Ecosystem"
   ]
  },
  {
   "cell_type": "markdown",
   "id": "e7c600bd",
   "metadata": {},
   "source": [
    "In this notebook, Data Science Tools and Ecosystem are summarized."
   ]
  },
  {
   "cell_type": "markdown",
   "id": "9eeb9013",
   "metadata": {},
   "source": [
    " **Objectives:**\n",
    "\n",
    " + Some of the popular languages that Data Scientists use.\n",
    " + Some of the commonly used libraries used by Data Scientists.\n",
    " + List of Data Science tools.\n",
    " + Few examples of evaluating arithmetic expressions in Python"
   ]
  },
  {
   "cell_type": "markdown",
   "id": "281f42a4",
   "metadata": {},
   "source": [
    "### Some of the popular languages that Data Scientists use are:\n",
    " 1. R\n",
    " 2. Python\n",
    " 3. Java"
   ]
  },
  {
   "cell_type": "markdown",
   "id": "3ea74e48",
   "metadata": {},
   "source": [
    " ### Some of the commonly used libraries used by Data Scientists include:\n",
    " 1. Pandas\n",
    " 2. Numpy\n",
    " 3. Matplotlib\n",
    " 4. Seaborn\n",
    " 5. Tensor Flow\n",
    " 6. Pytorch"
   ]
  },
  {
   "cell_type": "markdown",
   "id": "aeb4e268",
   "metadata": {},
   "source": [
    "### List of development environment tools:\n",
    "\n",
    "| Sr. No | Data Science Tools |\n",
    "| ------ | ------- |\n",
    "| 1 | Jupyter Notebook |\n",
    "| 2 | Rstudio |\n",
    "| 3 | Git / GitHub |"
   ]
  },
  {
   "cell_type": "markdown",
   "id": "058bed6d",
   "metadata": {},
   "source": [
    "### Below are a few examples of evaluating arithmetic expressions in Python"
   ]
  },
  {
   "cell_type": "code",
   "execution_count": 9,
   "id": "a6fb7635",
   "metadata": {},
   "outputs": [
    {
     "data": {
      "text/plain": [
       "17"
      ]
     },
     "execution_count": 9,
     "metadata": {},
     "output_type": "execute_result"
    }
   ],
   "source": [
    "# This a simple arithmetic expression to mutiply then add integers\n",
    "\n",
    "(3*4)+5"
   ]
  },
  {
   "cell_type": "code",
   "execution_count": 10,
   "id": "013e1fe4",
   "metadata": {},
   "outputs": [
    {
     "name": "stdout",
     "output_type": "stream",
     "text": [
      "3.3333333333333335\n"
     ]
    }
   ],
   "source": [
    "# This will convert 200 minutes to hours by diving by 60\n",
    "\n",
    "minutes = 200\n",
    "\n",
    "hours = minutes/60\n",
    "\n",
    "print(hours)"
   ]
  },
  {
   "cell_type": "markdown",
   "id": "3278ab38",
   "metadata": {},
   "source": [
    "## Author\n",
    "\n",
    "Prajwal K"
   ]
  },
  {
   "cell_type": "code",
   "execution_count": null,
   "id": "d8dac99d",
   "metadata": {},
   "outputs": [],
   "source": []
  }
 ],
 "metadata": {
  "kernelspec": {
   "display_name": "Python 3 (ipykernel)",
   "language": "python",
   "name": "python3"
  },
  "language_info": {
   "codemirror_mode": {
    "name": "ipython",
    "version": 3
   },
   "file_extension": ".py",
   "mimetype": "text/x-python",
   "name": "python",
   "nbconvert_exporter": "python",
   "pygments_lexer": "ipython3",
   "version": "3.11.3"
  }
 },
 "nbformat": 4,
 "nbformat_minor": 5
}
